{
 "cells": [
  {
   "cell_type": "markdown",
   "metadata": {},
   "source": [
    "### Install Dependencies"
   ]
  },
  {
   "cell_type": "code",
   "execution_count": null,
   "metadata": {},
   "outputs": [],
   "source": [
    "!pip install pandas\n",
    "!pip install numpy\n",
    "!pip install matplotlib\n",
    "!pip install scikit-learn\n",
    "!pip install statsmodels"
   ]
  },
  {
   "cell_type": "markdown",
   "metadata": {},
   "source": [
    "### Imports"
   ]
  },
  {
   "cell_type": "code",
   "execution_count": null,
   "metadata": {},
   "outputs": [],
   "source": [
    "import pandas as pd\n",
    "import numpy as np\n",
    "import matplotlib.pyplot as plt\n",
    "from sklearn.linear_model import LinearRegression"
   ]
  },
  {
   "cell_type": "markdown",
   "metadata": {},
   "source": [
    "### Read Data into pandas df"
   ]
  },
  {
   "cell_type": "code",
   "execution_count": null,
   "metadata": {},
   "outputs": [],
   "source": [
    "data = pd.read_csv('example_prices.csv', parse_dates=['dates'], index_col='dates')"
   ]
  },
  {
   "cell_type": "code",
   "execution_count": null,
   "metadata": {},
   "outputs": [],
   "source": [
    "# Extract the last 400 data points\n",
    "last_400 = data.tail(400)\n",
    "\n",
    "past = last_400.iloc[:200]  # First 210 points\n",
    "last_20 = past.iloc[-20:]   # Last 20 points of past\n",
    "future = last_400.iloc[199:210]  # Next 200 points (from index 190 onward)"
   ]
  },
  {
   "cell_type": "markdown",
   "metadata": {},
   "source": [
    "## Trend Line (by regression) for the past 200 days"
   ]
  },
  {
   "cell_type": "code",
   "execution_count": null,
   "metadata": {},
   "outputs": [],
   "source": [
    "\n",
    "past.loc[:, 'time'] = (past.index - past.index[0]).days\n",
    "last_20.loc[:, 'time'] = (last_20.index - last_20.index[0]).days\n",
    "\n",
    "l = last_20[['time']]\n",
    "\n",
    "X = past[['time']]  # Independent variable (time)\n",
    "y = past['diamonds']  # Dependent variable (actual data)\n",
    "\n",
    "# Fit a linear regression model\n",
    "model = LinearRegression()\n",
    "model.fit(X, y)\n",
    "\n",
    "trend_line = model.predict(X)\n"
   ]
  },
  {
   "cell_type": "markdown",
   "metadata": {},
   "source": [
    "## Find MAX and MIN for 200 to form belinger bounds"
   ]
  },
  {
   "cell_type": "code",
   "execution_count": null,
   "metadata": {},
   "outputs": [],
   "source": [
    "# Find the maximum point in past\n",
    "if not past['diamonds'].dropna().empty:\n",
    "    max_index = past['diamonds'].idxmax()\n",
    "    max_time = (max_index - last_400.index[0]).days\n",
    "    max_value = past.loc[max_index, 'diamonds']\n",
    "\n",
    "    # Calculate the equation of the new line: y = slope * (x - max_time) + max_value\n",
    "    slope = model.coef_[0]\n",
    "    max_line = slope * (X['time'] - max_time) + max_value\n",
    "\n",
    "# Find the minimum point in past\n",
    "if not past['diamonds'].dropna().empty:\n",
    "    min_index = past['diamonds'].dropna().idxmin()\n",
    "    min_time = (min_index - last_400.index[0]).days\n",
    "    min_value = past.loc[min_index, 'diamonds']\n",
    "\n",
    "    # Calculate the equation of the new line: y = slope * (x - min_time_past) + min_value_past\n",
    "    min_line_past = slope * (X['time'] - min_time) + min_value"
   ]
  },
  {
   "cell_type": "markdown",
   "metadata": {},
   "source": [
    "## Do the same as above but for last 20 days"
   ]
  },
  {
   "cell_type": "code",
   "execution_count": null,
   "metadata": {},
   "outputs": [],
   "source": [
    "#TODO\n",
    "# Find the maximum point in last_20\n",
    "# Ensure last_20 has a time column\n",
    "last_20['time'] = (last_20.index - last_20.index[0]).days\n",
    "\n",
    "# Find the maximum point in last_20\n",
    "if not last_20['diamonds'].dropna().empty:\n",
    "    max_index_20 = last_20['diamonds'].idxmax()\n",
    "    max_time_20 = (max_index_20 - last_20.index[0]).days  # FIXED\n",
    "    max_value_20 = last_20.loc[max_index_20, 'diamonds']\n",
    "\n",
    "    # Compute trend line from max point\n",
    "    slope = model.coef_[0]\n",
    "    max_line_20 = slope * (last_20['time'] - max_time_20) + max_value_20  # FIXED\n",
    "\n",
    "# Find the minimum point in last_20\n",
    "if not last_20['diamonds'].dropna().empty:\n",
    "    min_index_20 = last_20['diamonds'].idxmin()\n",
    "    min_time_20 = (min_index_20 - last_20.index[0]).days  # FIXED\n",
    "    min_value_20 = last_20.loc[min_index_20, 'diamonds']\n",
    "\n",
    "    # Compute trend line from min point\n",
    "    min_line_20 = slope * (last_20['time'] - min_time_20) + min_value_20  # FIXED\n"
   ]
  },
  {
   "cell_type": "markdown",
   "metadata": {},
   "source": [
    "## Adjusting trend line based on last 20 days averages"
   ]
  },
  {
   "cell_type": "code",
   "execution_count": null,
   "metadata": {},
   "outputs": [],
   "source": [
    "weight = 20\n",
    "intercept_shift = (-min_value_20 + max_value_20) / weight\n",
    "trend_line_adjusted = model.predict(X) + intercept_shift"
   ]
  },
  {
   "cell_type": "code",
   "execution_count": null,
   "metadata": {},
   "outputs": [],
   "source": [
    "plt.figure(figsize=(10, 6))\n",
    "\n",
    "# Plot a vertical line at the midpoint\n",
    "x_mid = last_400.index[len(last_400) // 2]  # Middle point of the time index\n",
    "plt.axvline(x=x_mid, color='red', linestyle='--', linewidth=2, label='Midpoint Vertical Line')\n",
    "\n",
    "\n",
    "# Plot the actual data and trend line\n",
    "plt.plot(past.index, y, label='Actual Data (Last 200 Points)', color='blue')\n",
    "\n",
    "\n",
    "plt.plot(past.index, trend_line, label='Trend Line', color='orange', linestyle='--')\n",
    "plt.plot(past.index, trend_line_adjusted, label='Trend Line', color='yellow', linestyle='--')\n",
    "\n",
    "\n",
    "# Plot actual data over last_400\n",
    "plt.plot(future.index, future['diamonds'], label='Actual Data (Last 400 Points)', color='blue', alpha=0.5)\n",
    "\n",
    "\n",
    "# Plot the new lines if they were calculated\n",
    "if 'max_line' in locals():\n",
    "    plt.plot(past.index, max_line, label='Line from Max Point', color='red', linestyle=':')\n",
    "if 'min_line_past' in locals():\n",
    "    plt.plot(past.index, min_line_past, label='Line from Min Point', color='green', linestyle=':')\n",
    "\n",
    "if 'max_line_20' in locals():\n",
    "    plt.plot(last_20.index, max_line_20, label='Line from Max 20', color='red')\n",
    "if 'min_line_20' in locals():\n",
    "    plt.plot(last_20.index, min_line_20, label='Line from Min 20', color='green')\n",
    "\n",
    "# Add labels, title, and legend\n",
    "plt.title('Actual Data vs Trend Line with Lines from Max and Min Points')\n",
    "plt.xlabel('Date')\n",
    "plt.ylabel('Price')\n",
    "plt.legend()\n",
    "plt.grid(True)\n",
    "plt.tight_layout()\n",
    "plt.show()\n"
   ]
  }
 ],
 "metadata": {
  "kernelspec": {
   "display_name": "Python 3",
   "language": "python",
   "name": "python3"
  },
  "language_info": {
   "codemirror_mode": {
    "name": "ipython",
    "version": 3
   },
   "file_extension": ".py",
   "mimetype": "text/x-python",
   "name": "python",
   "nbconvert_exporter": "python",
   "pygments_lexer": "ipython3",
   "version": "3.11.9"
  }
 },
 "nbformat": 4,
 "nbformat_minor": 2
}
