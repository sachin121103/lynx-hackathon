{
 "cells": [
  {
   "cell_type": "code",
   "execution_count": null,
   "id": "803d88f6-7d21-4443-8852-cc74131d13e1",
   "metadata": {
    "tags": []
   },
   "outputs": [],
   "source": [
    "import pandas as pd\n",
    "import numpy as np\n",
    "import evaluation"
   ]
  },
  {
   "cell_type": "markdown",
   "id": "0969b09d-29c7-44d0-b072-c860beb7ff70",
   "metadata": {},
   "source": [
    "## load_data"
   ]
  },
  {
   "cell_type": "code",
   "execution_count": null,
   "id": "3f8e1f26-eb14-4ebe-953e-f1e4db4b0726",
   "metadata": {
    "tags": []
   },
   "outputs": [],
   "source": [
    "# load prices\n",
    "prices = pd.read_csv('close_prices_insample.csv', index_col='AsOfDate', parse_dates=['AsOfDate'])\n",
    "ret = prices.diff()"
   ]
  },
  {
   "cell_type": "code",
   "execution_count": null,
   "id": "3b9e66f5-502d-4d1c-a6f6-7aab7161c71b",
   "metadata": {},
   "outputs": [],
   "source": [
    "prices.plot()"
   ]
  },
  {
   "cell_type": "markdown",
   "id": "d28649d4-0d3b-4bda-97b5-94e57fd1b6ba",
   "metadata": {},
   "source": [
    "## enter your own trading strategy here"
   ]
  },
  {
   "cell_type": "markdown",
   "id": "2f1602ae",
   "metadata": {},
   "source": [
    "## soft clipping"
   ]
  },
  {
   "cell_type": "code",
   "execution_count": null,
   "id": "78c17e8d",
   "metadata": {},
   "outputs": [],
   "source": [
    "def soft_clip(x, lower_bound=-1, upper_bound=1, smoothness=10):\n",
    "    \"\"\"\n",
    "    Softly clip values using a tanh-based function to gradually bring extreme values closer\n",
    "    to the target range.\n",
    "\n",
    "    Parameters:\n",
    "    - x: Input array or value\n",
    "    - lower_bound: Lower bound for clipping\n",
    "    - upper_bound: Upper bound for clipping\n",
    "    - smoothness: The rate at which values are clipped; higher values make the transition smoother\n",
    "    \n",
    "    Returns:\n",
    "    - Softly clipped values\n",
    "    \"\"\"\n",
    "    # Scale the values to the range [0, 1] for tanh scaling\n",
    "    scale = (x - lower_bound) / (upper_bound - lower_bound)\n",
    "    # Apply tanh transformation and rescale back to the original range\n",
    "    clipped = (np.tanh(smoothness * (scale - 0.5)) + 1) / 2  # range [0, 1]\n",
    "    return lower_bound + clipped * (upper_bound - lower_bound)"
   ]
  },
  {
   "cell_type": "markdown",
   "id": "973c5e85",
   "metadata": {},
   "source": [
    "## exponential averages"
   ]
  },
  {
   "cell_type": "code",
   "execution_count": null,
   "id": "10db6366",
   "metadata": {},
   "outputs": [],
   "source": [
    "def ema_bollinger_strategy(price, short_ema=30, long_ema=200, bb_window=50, bb_std=3, vol_window=252):\n",
    "\n",
    "    # Exponential Moving Averages\n",
    "    ema_short = price.ewm(span=short_ema, adjust=False).mean()\n",
    "    ema_long = price.ewm(span=long_ema, adjust=False).mean()\n",
    "\n",
    "    # Bollinger Bands\n",
    "    sma = price.rolling(bb_window).mean()\n",
    "    std = price.rolling(bb_window).std()\n",
    "    upper_band = sma + bb_std * std\n",
    "    lower_band = sma - bb_std * std\n",
    "\n",
    "    threshold = 0.05\n",
    "\n",
    "    # Trend Signal (EMA Crossover)\n",
    "    trend_signal = np.where((ema_short > ema_long * (1 + threshold)), 1,\n",
    "                          np.where((ema_short < ema_long * (1 - threshold)), -1, 0))\n",
    "\n",
    "    # Bollinger Band Signal (Mean Reversion)\n",
    "    bb_signal = np.where(price > upper_band, -1,\n",
    "                        np.where(price < lower_band, 1, 0))\n",
    "\n",
    "    # Combined Signal (sum then clip between -2 and 2)?\n",
    "    position = trend_signal + bb_signal\n",
    "    position =  position = soft_clip(position, lower_bound=-1, upper_bound=1, smoothness=10)\n",
    "    \n",
    "\n",
    "    # Scale by volatility (dynamic position sizing)\n",
    "    # vol = price.pct_change().rolling(vol_window).std()\n",
    "\n",
    "   # Calculate portfolio returns (mean return of all instruments)\n",
    "    portfolio_returns = price.pct_change().mean(axis=1)\n",
    "\n",
    "    # Calculate the rolling volatility of the portfolio (overall portfolio volatility)\n",
    "    vol = portfolio_returns.rolling(vol_window).std()\n",
    "\n",
    "    # Scale by overall portfolio volatility (dynamic position sizing)\n",
    "    # Broadcast 'vol' to match shape of 'position' (5443, 27)\n",
    "    vol = vol.values[:, None]  # Make 'vol' a column vector (5443, 1)\n",
    "    \n",
    "    # Position scaling using portfolio volatility\n",
    "    position = position / vol\n",
    "    \n",
    "    # Convert to DataFrame with same index as input\n",
    "    position = pd.DataFrame(position, index=prices.index, columns=prices.columns)\n",
    "    \n",
    "    return position\n",
    "\n",
    "\n",
    "position = ema_bollinger_strategy(prices)"
   ]
  },
  {
   "cell_type": "code",
   "execution_count": null,
   "id": "220c0a6e",
   "metadata": {},
   "outputs": [],
   "source": [
    "evaluation.plot_key_figures(position, prices)"
   ]
  },
  {
   "cell_type": "markdown",
   "id": "a61c3743-93b5-4397-93c1-37ea4f841635",
   "metadata": {},
   "source": [
    "## save your positions to a file"
   ]
  },
  {
   "cell_type": "code",
   "execution_count": null,
   "id": "c33e1135-d415-45d3-aa2c-4b881ad79d40",
   "metadata": {},
   "outputs": [],
   "source": [
    "position.to_csv('results.csv')"
   ]
  }
 ],
 "metadata": {
  "kernelspec": {
   "display_name": "Python 3",
   "language": "python",
   "name": "python3"
  },
  "language_info": {
   "codemirror_mode": {
    "name": "ipython",
    "version": 3
   },
   "file_extension": ".py",
   "mimetype": "text/x-python",
   "name": "python",
   "nbconvert_exporter": "python",
   "pygments_lexer": "ipython3",
   "version": "3.11.9"
  },
  "widgets": {
   "application/vnd.jupyter.widget-state+json": {
    "state": {},
    "version_major": 2,
    "version_minor": 0
   }
  }
 },
 "nbformat": 4,
 "nbformat_minor": 5
}
